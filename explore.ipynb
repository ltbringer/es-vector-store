{
 "cells": [
  {
   "cell_type": "code",
   "execution_count": null,
   "metadata": {},
   "outputs": [],
   "source": [
    "import os\n",
    "from es_vector_store.vendor.es import (\n",
    "    VectorStore,\n",
    "    ConnectionParams,\n",
    "    VectorIndexOptions,\n",
    "    VectorIndexType,\n",
    ")"
   ]
  },
  {
   "cell_type": "code",
   "execution_count": null,
   "metadata": {},
   "outputs": [],
   "source": [
    "ES_USERNAME = os.getenv(\"ES_USERNAME\")\n",
    "ES_PASSWORD = os.getenv(\"ES_PASSWORD\")"
   ]
  },
  {
   "cell_type": "code",
   "execution_count": null,
   "metadata": {},
   "outputs": [],
   "source": [
    "store = VectorStore(\n",
    "    index=\"recipes\",\n",
    "    enable_vector_index=True,\n",
    "    vector_index_options=VectorIndexOptions(type=VectorIndexType.HNSW.value),\n",
    "    vector_field=(\"recipe_embeddings\", 250),\n",
    "    connection_params=ConnectionParams(\n",
    "        url=\"http://localhost:9200\", username=ES_USERNAME, password=ES_PASSWORD\n",
    "    ),\n",
    ")"
   ]
  },
  {
   "cell_type": "code",
   "execution_count": null,
   "metadata": {},
   "outputs": [],
   "source": []
  },
  {
   "cell_type": "code",
   "execution_count": null,
   "metadata": {},
   "outputs": [],
   "source": []
  },
  {
   "cell_type": "code",
   "execution_count": null,
   "metadata": {},
   "outputs": [],
   "source": []
  }
 ],
 "metadata": {
  "kernelspec": {
   "display_name": "p311",
   "language": "python",
   "name": "python3"
  },
  "language_info": {
   "codemirror_mode": {
    "name": "ipython",
    "version": 3
   },
   "file_extension": ".py",
   "mimetype": "text/x-python",
   "name": "python",
   "nbconvert_exporter": "python",
   "pygments_lexer": "ipython3",
   "version": "3.11.7"
  }
 },
 "nbformat": 4,
 "nbformat_minor": 2
}
