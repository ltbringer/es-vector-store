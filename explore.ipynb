{
    "cells": [
        {
            "cell_type": "code",
            "execution_count": null,
            "metadata": {},
            "outputs": [],
            "source": [
                "import os\n",
                "import pandas as pd\n",
                "from es_vector_store.vendor.es import (\n",
                "    VectorStore,\n",
                "    ConnectionParams,\n",
                "    VectorIndexOptions,\n",
                ")\n",
                "from es_vector_store.vendor.schemas import VectorIndexType, KNNQuery\n",
                "from sklearn.feature_extraction.text import TfidfVectorizer"
            ]
        },
        {
            "cell_type": "code",
            "execution_count": null,
            "metadata": {},
            "outputs": [],
            "source": [
                "ES_USERNAME = os.getenv(\"ES_USERNAME\")\n",
                "ES_PASSWORD = os.getenv(\"ES_PASSWORD\")"
            ]
        },
        {
            "cell_type": "code",
            "execution_count": null,
            "metadata": {},
            "outputs": [],
            "source": [
                "store = VectorStore(\n",
                "    index=\"recipes\",\n",
                "    enable_vector_index=True,\n",
                "    vector_index_options=VectorIndexOptions(type=VectorIndexType.HNSW.value),\n",
                "    vector_fields=[(\"recipe_embeddings\", 253)],\n",
                "    mappings={\"properties\": {\"title\": {\"type\": \"keyword\"}, \"recipe\": {\"type\": \"text\"}}},\n",
                "    connection_params=ConnectionParams(\n",
                "        url=\"http://localhost:9200\", username=ES_USERNAME, password=ES_PASSWORD\n",
                "    ),\n",
                ")"
            ]
        },
        {
            "cell_type": "code",
            "execution_count": null,
            "metadata": {},
            "outputs": [],
            "source": [
                "recipes = [\n",
                "    {\n",
                "        \"title\": \"Pasta with tomato sauce\",\n",
                "        \"recipe\": \"1. Boil water in a pot.\\n2. Add pasta and cook until al dente.\\n3. In a separate pan, heat olive oil and sauté garlic.\\n4. Add chopped tomatoes, salt, and pepper to the pan.\\n5. Simmer the sauce until it thickens.\\n6. Drain the pasta and toss it with the tomato sauce.\\n7. Serve hot with grated cheese.\",\n",
                "    },\n",
                "    {\n",
                "        \"title\": \"Spaghetti carbonara\",\n",
                "        \"recipe\": \"1. Cook spaghetti according to package instructions.\\n2. In a pan, fry bacon until crispy.\\n3. Cook spaghetti until al dente, then drain, reserving some pasta water.\\n4. In a bowl, whisk together eggs, grated Parmesan cheese, and black pepper.\\n5. Add the cooked spaghetti to the pan with the bacon.\\n6. Pour the egg mixture over the spaghetti and toss quickly to combine.\\n7. If needed, add some reserved pasta water to create a creamy sauce.\\n8. Serve hot with additional Parmesan cheese and black pepper.\",\n",
                "    },\n",
                "    {\n",
                "        \"title\": \"Pasta with pesto\",\n",
                "        \"recipe\": \"1. Cook pasta according to package instructions.\\n2. In a food processor, combine fresh basil leaves, pine nuts, garlic, Parmesan cheese, and olive oil.\\n3. Blend until smooth, adding more olive oil if needed.\\n4. Toss the cooked pasta with the pesto sauce until evenly coated.\\n5. Serve hot with extra Parmesan cheese, if desired.\",\n",
                "    },\n",
                "    {\n",
                "        \"title\": \"Margherita pizza\",\n",
                "        \"recipe\": \"1. Preheat oven to highest temperature.\\n2. Roll out pizza dough on a baking sheet.\\n3. Spread tomato sauce over the dough.\\n4. Arrange slices of fresh mozzarella cheese and basil leaves on top.\\n5. Drizzle with olive oil and sprinkle with salt.\\n6. Bake in the preheated oven until crust is golden and cheese is bubbly.\\n7. Remove from oven and let cool slightly before slicing.\",\n",
                "    },\n",
                "    {\n",
                "        \"title\": \"Lasagna\",\n",
                "        \"recipe\": \"1. Preheat oven to 375°F (190°C).\\n2. In a skillet, brown ground beef with onions and garlic.\\n3. Add tomato sauce, Italian seasoning, salt, and pepper to the skillet.\\n4. In a separate bowl, mix ricotta cheese, egg, and grated Parmesan cheese.\\n5. In a baking dish, layer lasagna noodles, meat sauce, and ricotta mixture.\\n6. Repeat layers until all ingredients are used, ending with a layer of meat sauce on top.\\n7. Cover the baking dish with foil and bake for 45 minutes.\\n8. Remove foil and bake for an additional 15 minutes, until bubbly and golden.\\n9. Let cool slightly before serving.\",\n",
                "    },\n",
                "    {\n",
                "        \"title\": \"Chicken tikka masala\",\n",
                "        \"recipe\": \"1. Marinate chicken pieces in a mixture of yogurt, lemon juice, and spices for at least 1 hour.\\n2. Grill or bake the marinated chicken until cooked through.\\n3. In a separate pan, heat oil and sauté onions, garlic, and ginger until soft.\\n4. Add tomato puree, cream, and spices to the pan.\\n5. Simmer the sauce until it thickens.\\n6. Add the cooked chicken to the sauce and simmer for a few minutes.\\n7. Serve hot with rice or naan bread.\",\n",
                "    },\n",
                "    {\n",
                "        \"title\": \"Butter chicken\",\n",
                "        \"recipe\": \"1. Marinate chicken pieces in a mixture of yogurt, lemon juice, and spices for at least 1 hour.\\n2. Grill or bake the marinated chicken until cooked through.\\n3. In a separate pan, heat butter and sauté onions, garlic, and ginger until soft.\\n4. Add tomato puree, cream, and spices to the pan.\\n5. Simmer the sauce until it thickens.\\n6. Add the cooked chicken to the sauce and simmer for a few minutes.\\n7. Serve hot with rice or naan bread.\",\n",
                "    },\n",
                "    {\n",
                "        \"title\": \"Chicken korma\",\n",
                "        \"recipe\": \"1. Marinate chicken pieces in a mixture of yogurt, lemon juice, and spices for at least 1 hour.\\n2. In a pan, heat oil and sauté onions, garlic, and ginger until soft.\\n3. Add the marinated chicken to the pan and cook until browned.\\n4. Add water and simmer until chicken is cooked through.\\n5. In a separate pan, heat ghee and fry cashew nuts and raisins until golden.\\n6. Add the fried nuts and raisins to the chicken.\\n7. Serve hot with rice or naan bread.\",\n",
                "    },\n",
                "    {\n",
                "        \"title\": \"Paneer tikka\",\n",
                "        \"recipe\": \"1. Marinate paneer cubes in a mixture of yogurt, lemon juice, and spices for at least 1 hour.\\n2. Grill or bake the marinated paneer until lightly charred.\\n3. In a separate pan, heat oil and sauté onions, bell peppers, and tomatoes until soft.\\n4. Add the cooked paneer to the pan and toss to combine.\\n5. Serve hot with mint chutney.\",\n",
                "    },\n",
                "    {\n",
                "        \"title\": \"Egg curry\",\n",
                "        \"recipe\": \"1. Hard boil eggs, then peel and set aside.\\n2. In a pan, heat oil and sauté onions, garlic, and ginger until soft.\\n3. Add tomato puree, spices, and water to the pan.\\n4. Simmer the sauce until it thickens.\\n5. Add the boiled eggs to the sauce and simmer for a few minutes.\\n6. Garnish with chopped cilantro and serve hot with rice or bread.\",\n",
                "    },\n",
                "    {\n",
                "        \"title\": \"Kung Pao chicken\",\n",
                "        \"recipe\": \"1. Marinate chicken pieces in a mixture of soy sauce, rice vinegar, and cornstarch for at least 30 minutes.\\n2. In a wok or large skillet, heat oil and stir-fry chicken until cooked through.\\n3. Remove chicken from the wok and set aside.\\n4. In the same wok, stir-fry peanuts, dried red chilies, and Sichuan peppercorns until fragrant.\\n5. Add garlic, ginger, and green onions to the wok and stir-fry for a minute.\\n6. Return the cooked chicken to the wok.\\n7. Add soy sauce, hoisin sauce, and sugar to the wok.\\n8. Stir-fry until everything is coated in the sauce.\\n9. Serve hot with steamed rice.\",\n",
                "    },\n",
                "    {\n",
                "        \"title\": \"Mapo tofu\",\n",
                "        \"recipe\": \"1. Heat the vegetable oil in a wok or large skillet over medium heat.\\n2. Add the minced garlic, ginger, and the white parts of the green onions. Stir-fry for about 30 seconds until fragrant.\\n3. Add the ground pork to the wok and break it up with a spatula. Cook until the pork is browned and cooked through.\\n4. Add the doubanjiang and chili bean sauce to the wok. Stir-fry for another 1-2 minutes.\\n5. Pour in the soy sauce, sugar, and chicken or vegetable broth. Stir to combine.\\n6. Gently slide the tofu cubes into the wok. Let the mixture simmer for about 5 minutes, being careful not to break the tofu cubes.\\n7. Stir in the cornstarch mixture to thicken the sauce. Cook for another 1-2 minutes until the sauce has thickened.\\n8. Season with salt and pepper to taste.\\n9. Remove the wok from the heat and stir in the green parts of the chopped green onions, sesame oil, and Sichuan peppercorn powder (if using).\\n10. Serve hot over cooked white rice.\",\n",
                "    },\n",
                "]\n",
                "\n",
                "corpus = [\n",
                "    f\"<TITLE>{recipe['title'].lower()}</TITLE><RECIPE>{recipe['recipe'].lower()}</RECIPE>\"\n",
                "    for recipe in recipes\n",
                "]"
            ]
        },
        {
            "cell_type": "code",
            "execution_count": null,
            "metadata": {},
            "outputs": [],
            "source": [
                "vectorizer = TfidfVectorizer()\n",
                "X = vectorizer.fit_transform(corpus)"
            ]
        },
        {
            "cell_type": "code",
            "execution_count": null,
            "metadata": {},
            "outputs": [],
            "source": [
                "df = pd.DataFrame(\n",
                "    X.toarray(),\n",
                "    columns=vectorizer.get_feature_names_out(),\n",
                "    index=[recipe[\"title\"] for recipe in recipes],\n",
                ")"
            ]
        },
        {
            "cell_type": "code",
            "execution_count": null,
            "metadata": {},
            "outputs": [],
            "source": [
                "df"
            ]
        },
        {
            "cell_type": "code",
            "execution_count": null,
            "metadata": {},
            "outputs": [],
            "source": [
                "def generate_data(df_):\n",
                "    for index, row in df_.iterrows():\n",
                "        for i_, recipe in enumerate(recipes):\n",
                "            if recipe[\"title\"] == index:\n",
                "                i = i_\n",
                "                break\n",
                "\n",
                "        yield {\n",
                "            \"title\": index,\n",
                "            \"recipe\": recipes[i][\"recipe\"],\n",
                "            \"recipe_embeddings\": row.to_list(),\n",
                "        }"
            ]
        },
        {
            "cell_type": "code",
            "execution_count": null,
            "metadata": {},
            "outputs": [],
            "source": [
                "store.bulk_insert(generate_data(df))"
            ]
        },
        {
            "cell_type": "code",
            "execution_count": null,
            "metadata": {},
            "outputs": [],
            "source": [
                "text = \"Chicken pizza\".lower()\n",
                "vector = vectorizer.transform([text]).toarray()"
            ]
        },
        {
            "cell_type": "code",
            "execution_count": null,
            "metadata": {},
            "outputs": [],
            "source": [
                "results = store.search(\n",
                "    KNNQuery(\n",
                "        vector_field=\"recipe_embeddings\",\n",
                "        vector=vector[0],\n",
                "        top_k=3,\n",
                "    )\n",
                ")"
            ]
        },
        {
            "cell_type": "code",
            "execution_count": null,
            "metadata": {},
            "outputs": [],
            "source": [
                "results.body"
            ]
        }
    ],
    "metadata": {
        "kernelspec": {
            "display_name": "p311",
            "language": "python",
            "name": "python3"
        },
        "language_info": {
            "codemirror_mode": {
                "name": "ipython",
                "version": 3
            },
            "file_extension": ".py",
            "mimetype": "text/x-python",
            "name": "python",
            "nbconvert_exporter": "python",
            "pygments_lexer": "ipython3",
            "version": "3.11.8"
        }
    },
    "nbformat": 4,
    "nbformat_minor": 2
}